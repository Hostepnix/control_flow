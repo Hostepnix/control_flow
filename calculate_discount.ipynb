{
 "cells": [
  {
   "cell_type": "code",
   "execution_count": 1,
   "metadata": {},
   "outputs": [],
   "source": [
    "def calculated_discount(price, discount_percent):\n",
    "    if discount_percent >=20:\n",
    "        discounted_price = price - (price * (discount_percent/100))\n",
    "        return discounted_price\n",
    "    else:\n",
    "        return price"
   ]
  },
  {
   "cell_type": "code",
   "execution_count": 4,
   "metadata": {},
   "outputs": [
    {
     "name": "stdout",
     "output_type": "stream",
     "text": [
      "Final price after applying discount:  5000\n"
     ]
    }
   ],
   "source": [
    "original_price = int(input('Enter the sales price'))\n",
    "discount_percentage = int(input('Enter the discount_percent'))\n",
    "final_price = calculated_discount(original_price, discount_percentage)\n",
    "print('Final price after applying discount: ', final_price)"
   ]
  }
 ],
 "metadata": {
  "kernelspec": {
   "display_name": "Python 3",
   "language": "python",
   "name": "python3"
  },
  "language_info": {
   "codemirror_mode": {
    "name": "ipython",
    "version": 3
   },
   "file_extension": ".py",
   "mimetype": "text/x-python",
   "name": "python",
   "nbconvert_exporter": "python",
   "pygments_lexer": "ipython3",
   "version": "3.12.2"
  }
 },
 "nbformat": 4,
 "nbformat_minor": 2
}
